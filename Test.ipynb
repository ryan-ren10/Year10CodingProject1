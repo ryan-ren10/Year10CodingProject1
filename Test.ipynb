{
 "cells": [
  {
   "cell_type": "code",
   "execution_count": 1,
   "id": "136ce19a",
   "metadata": {},
   "outputs": [],
   "source": [
    "import library as lib\n",
    "import matplotlib.pyplot as plt\n",
    "%matplotlib inline\n",
    "from matplotlib.patches import PathPatch\n",
    "from matplotlib.offsetbox import OffsetImage, AnnotationBbox\n",
    "import pandas as pd\n",
    "import numpy as mp\n",
    "import csv"
   ]
  },
  {
   "cell_type": "code",
   "execution_count": 5,
   "id": "5ee9e2cb",
   "metadata": {},
   "outputs": [],
   "source": [
    "adStats = lib.loadList('advanced_stats.csv') \n",
    "adStatCol = {\"PER\":7, \"TS%\":8, \"TRB%\":13, \"AST%\":14, \"STL%\":15, \"TOV%\":17, \"OWS\": 19, \"BPM\":25, \"VORP\":26, \"Player\":27,\"Season\":28}"
   ]
  },
  {
   "cell_type": "code",
   "execution_count": 6,
   "id": "1434c510",
   "metadata": {
    "tags": []
   },
   "outputs": [
    {
     "output_type": "stream",
     "name": "stdout",
     "text": "Lebron James\n0.488\n0.554\n0.568\n0.552\n0.568\n0.591\n0.604\n0.594\n0.605\n0.64\n0.649\n0.577\n0.588\n0.619\n0.621\n0.588\n0.557\n0.516\n0.525\n0.618\n0.607\n0.563\n0.576\n0.585\n0.668\n0.487\n0.585\n0.649\n0.619\naverage: 0.585\nKobe Bryant\n0.544\n0.548\n0.549\n0.546\n0.552\n0.544\n0.55\n0.551\n0.563\n0.559\n0.58\n0.576\n0.561\n0.545\n0.548\n0.527\n0.57\n0.505\n0.477\n0.469\n0.543\n0.501\n0.502\n0.517\n0.555\n0.511\n0.531\n0.506\n0.587\n0.561\n0.577\n0.564\n0.567\n0.536\n0.525\naverage: 0.541\nMichael Jordan\n0.592\n0.533\n0.562\n0.603\n0.614\n0.606\n0.605\n0.579\n0.564\n0.493\n0.582\n0.567\n0.533\n0.468\n0.491\n0.565\n0.584\n0.529\n0.598\n0.602\n0.592\n0.6\n0.571\n0.553\n0.557\n0.564\n0.524\n0.545\naverage: 0.563\n"
    },
    {
     "output_type": "execute_result",
     "data": {
      "text/plain": "0.563"
     },
     "metadata": {},
     "execution_count": 6
    }
   ],
   "source": [
    "def playerTS(player):\n",
    "    print(player)\n",
    "    TS = 0\n",
    "    seasons = 0\n",
    "    for i in range(0, len(adStats)):\n",
    "        if player == adStats[i][adStatCol[\"Player\"]]:\n",
    "            valTS = float(adStats[i][adStatCol[\"TS%\"]])\n",
    "            print(valTS) \n",
    "            TS += valTS\n",
    "            seasons += 1\n",
    "    avTS = round(TS/seasons, 3)\n",
    "    print(\"average: \" + str(avTS))\n",
    "    return avTS\n",
    "playerTS(\"Lebron James\")\n",
    "playerTS(\"Kobe Bryant\")\n",
    "playerTS(\"Michael Jordan\")"
   ]
  },
  {
   "cell_type": "code",
   "execution_count": 7,
   "id": "7ccac99d",
   "metadata": {
    "tags": []
   },
   "outputs": [
    {
     "output_type": "stream",
     "name": "stdout",
     "text": "Lebron James\n0.488\n0.554\n0.568\n0.552\n0.568\n0.591\n0.604\n0.594\n0.605\n0.64\n0.649\n0.577\n0.588\n0.619\n0.621\n0.588\n0.557\n0.516\n0.525\n0.618\n0.607\n0.563\n0.576\n0.585\n0.668\n0.487\n0.585\n0.649\n0.619\naverage: 0.585\nMichael Jordan\n0.592\n0.533\n0.562\n0.603\n0.614\n0.606\n0.605\n0.579\n0.564\n0.493\n0.582\n0.567\n0.533\n0.468\n0.491\n0.565\n0.584\n0.529\n0.598\n0.602\n0.592\n0.6\n0.571\n0.553\n0.557\n0.564\n0.524\n0.545\naverage: 0.563\nKobe Bryant\n0.544\n0.548\n0.549\n0.546\n0.552\n0.544\n0.55\n0.551\n0.563\n0.559\n0.58\n0.576\n0.561\n0.545\n0.548\n0.527\n0.57\n0.505\n0.477\n0.469\n0.543\n0.501\n0.502\n0.517\n0.555\n0.511\n0.531\n0.506\n0.587\n0.561\n0.577\n0.564\n0.567\n0.536\n0.525\naverage: 0.541\n"
    },
    {
     "output_type": "error",
     "ename": "AttributeError",
     "evalue": "'list' object has no attribute 'axis'",
     "traceback": [
      "\u001b[0;31m---------------------------------------------------------------------------\u001b[0m",
      "\u001b[0;31mAttributeError\u001b[0m                            Traceback (most recent call last)",
      "\u001b[0;32m/var/folders/p7/_6vc8bqd6dg6p1t45rl_0kmr0000gp/T/ipykernel_1311/3334691228.py\u001b[0m in \u001b[0;36m<module>\u001b[0;34m\u001b[0m\n\u001b[1;32m     31\u001b[0m \u001b[0;34m\u001b[0m\u001b[0m\n\u001b[1;32m     32\u001b[0m \u001b[0;31m#ax1.pie(sizes, explode=explode, labels=labels, shadow=True, startangle=90)\u001b[0m\u001b[0;34m\u001b[0m\u001b[0;34m\u001b[0m\u001b[0;34m\u001b[0m\u001b[0m\n\u001b[0;32m---> 33\u001b[0;31m \u001b[0mwedges\u001b[0m\u001b[0;34m.\u001b[0m\u001b[0maxis\u001b[0m\u001b[0;34m(\u001b[0m\u001b[0;34m'equal'\u001b[0m\u001b[0;34m)\u001b[0m\u001b[0;34m\u001b[0m\u001b[0;34m\u001b[0m\u001b[0m\n\u001b[0m\u001b[1;32m     34\u001b[0m \u001b[0;34m\u001b[0m\u001b[0m\n\u001b[1;32m     35\u001b[0m \u001b[0mplt\u001b[0m\u001b[0;34m.\u001b[0m\u001b[0mshow\u001b[0m\u001b[0;34m(\u001b[0m\u001b[0;34m)\u001b[0m\u001b[0;34m\u001b[0m\u001b[0;34m\u001b[0m\u001b[0m\n",
      "\u001b[0;31mAttributeError\u001b[0m: 'list' object has no attribute 'axis'"
     ]
    }
   ],
   "source": [
    "lbj = playerTS(\"Lebron James\") \n",
    "mj = playerTS(\"Michael Jordan\") \n",
    "kobe = playerTS(\"Kobe Bryant\")\n",
    "\n",
    "explode = (0.1, 0, 0)\n",
    "labels = [\"Lebron\", \"MJ\", \"Kobe\"] \n",
    "sizes = [lbj, mj, kobe]\n",
    "\n",
    "fig1, wedges = plt.subplots()\n",
    "\n",
    "plt.gca().axis(\"equal\")\n",
    "\n",
    "wedges, texts = plt.pie(sizes, explode=explode, startangle=90, labels=labels, shadow = True,\n",
    "                        wedgeprops = { 'linewidth': 2, \"edgecolor\" :\"k\",\"fill\":False,  })\n",
    "\n",
    "def img_to_pie( fn, wedge, xy, zoom=1, ax = None):\n",
    "    if ax==None: ax=plt.gca()\n",
    "    im = plt.imread(fn, format='jpg')\n",
    "    path = wedge.get_path()\n",
    "    patch = PathPatch(path, facecolor='none')\n",
    "    ax.add_patch(patch)\n",
    "    imagebox = OffsetImage(im, zoom=zoom, clip_path=patch, zorder=-10)\n",
    "    ab = AnnotationBbox(imagebox, xy, xycoords='data', pad=0, frameon=False)\n",
    "    ax.add_artist(ab)\n",
    "\n",
    "positions = [(-0.6,0.3),(0,-0.5),(0.5,0.3)]\n",
    "zooms = [0.7,0.1,0.3]\n",
    "\n",
    "for i in range(3):\n",
    "    fn = \"{}.jpg\".format(labels[i].lower())\n",
    "    img_to_pie(fn, wedges[i], xy=positions[i], zoom=zooms[i] )\n",
    "    wedges[i].set_zorder(10)\n",
    "\n",
    "#ax1.pie(sizes, explode=explode, labels=labels, shadow=True, startangle=90)\n",
    "#wedges.axis('equal') \n",
    "\n",
    "plt.show()\n",
    "\n",
    "print(wedges)\n",
    "print(texts)"
   ]
  },
  {
   "cell_type": "code",
   "execution_count": null,
   "id": "8dbc40c0",
   "metadata": {},
   "outputs": [],
   "source": []
  },
  {
   "cell_type": "code",
   "execution_count": null,
   "id": "7e726e41",
   "metadata": {},
   "outputs": [],
   "source": []
  }
 ],
 "metadata": {
  "kernelspec": {
   "display_name": "Python 3.8.3 64-bit",
   "language": "python",
   "name": "python38364bitc778cb31a9f94543bf87a19f9fc1a769"
  },
  "language_info": {
   "codemirror_mode": {
    "name": "ipython",
    "version": 3
   },
   "file_extension": ".py",
   "mimetype": "text/x-python",
   "name": "python",
   "nbconvert_exporter": "python",
   "pygments_lexer": "ipython3",
   "version": "3.8.3-final"
  }
 },
 "nbformat": 4,
 "nbformat_minor": 5
}